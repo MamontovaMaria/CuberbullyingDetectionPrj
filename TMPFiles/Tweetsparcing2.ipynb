{
 "cells": [
  {
   "cell_type": "code",
   "execution_count": 7,
   "metadata": {
    "collapsed": false
   },
   "outputs": [],
   "source": [
    "import json\n",
    "import difflib\n",
    "import copy\n",
    "from pprint import pprint\n",
    "#Reading the file\n",
    "f = open('python1007.json')\n",
    "with open('python1007.json',encoding='utf-8') as f:\n",
    "    content = f.readlines()\n",
    "#Getting rid of empty strings\n",
    "content =  [x.strip() for x in content]\n",
    "content = list(filter(None, content)) \n",
    "TweetsJsonArray = []\n",
    "#To JSON TYPE\n",
    "for tweet in content:\n",
    "    TweetsJsonArray.append(json.loads(tweet))  \n",
    "#Preprocessing - deleting the similar tweets- deciede that it is not needed\n",
    "import difflib\n",
    "def similar(a, b):\n",
    "    return difflib.SequenceMatcher(None, a, b).ratio()"
   ]
  },
  {
   "cell_type": "code",
   "execution_count": 8,
   "metadata": {
    "collapsed": false
   },
   "outputs": [],
   "source": [
    "from html.parser import HTMLParser"
   ]
  },
  {
   "cell_type": "code",
   "execution_count": 9,
   "metadata": {
    "collapsed": false
   },
   "outputs": [],
   "source": [
    "#Writing the content to the exel for Manual Analysis\n",
    "import re\n",
    "import csv\n",
    "import json\n",
    "import xlwt\n",
    "import re\n",
    "\n",
    "num=1;\n",
    "book = xlwt.Workbook()\n",
    "sheet1 = book.add_sheet(\"Sheet1\",cell_overwrite_ok=True)\n",
    "\n",
    "row = sheet1.row(0)\n",
    "\n",
    "row.write(0, 'Created at')\n",
    "row.write(1, 'Text')  \n",
    "row.write(2, 'Names') \n",
    "row.write(3, 'Description') \n",
    "row.write(4, 'Locations') \n",
    "row.write(5, 'Id') \n",
    "n=0\n",
    "for tweet in TweetsJsonArray: \n",
    "    n=n+1\n",
    "    if tweet['lang']==\"en\":\n",
    "        row = sheet1.row(num)\n",
    "        row.write(0, tweet['created_at'])  \n",
    "        text=''\n",
    "        if 'extended_tweet' in tweet:\n",
    "            text=tweet['extended_tweet']['full_text']\n",
    "        elif 'retweeted_status' in tweet:\n",
    "            if 'extended_tweet' in tweet['retweeted_status']:\n",
    "                text=tweet['retweeted_status']['extended_tweet']['full_text']\n",
    "            else:\n",
    "                text=tweet['retweeted_status']['text']\n",
    "        else:\n",
    "            text=tweet['text']\n",
    "        text = re.sub('http[s]?://(?:[a-zA-Z]|[0-9]|[$-_@.&+]|[!*\\(\\),]|(?:%[0-9a-fA-F][0-9a-fA-F]))+','',text)\n",
    "        names = tweet['user']['name']\n",
    "        description = tweet['user']['description']\n",
    "        #text = re.sub(r'\\W+', '', text)\n",
    "        \n",
    "        PERMITTED_CHARS = \"0123456789abcdefghijklmnopqrstuvwxyzABCDEFGHIJKLMNOPQRSTUVWXYZ_- \"\n",
    "        text = \"\".join(c for c in text if c in PERMITTED_CHARS)\n",
    "        text=text.lower()\n",
    "        text=text.strip()\n",
    "        names=\"\".join(c for c in names if c in PERMITTED_CHARS)\n",
    "        description=\"\".join(c for c in description if c in PERMITTED_CHARS) if description!= None else ''\n",
    "        #text=text+\";\\n\"+description       \n",
    "        num=num+1              \n",
    "        \n",
    "        row.write(1, text)\n",
    "        row.write(2, names)\n",
    "        row.write(3, description)\n",
    "        row.write(4, tweet['user']['location'] if tweet['user']['location'] != None else '')\n",
    "        row.write(5, num)\n",
    "        num=num+1\n",
    "book.save(\"TweetCorpusExel3.xls\")\n",
    "    #csvFile.writerow([tweet[\"created_at\"],tweet[\"text\"],tweet[\"user\"][\"name\"],tweet[\"user\"][\"description\"],tweet[\"user\"][\"location\"]])"
   ]
  },
  {
   "cell_type": "code",
   "execution_count": 10,
   "metadata": {
    "collapsed": false
   },
   "outputs": [
    {
     "name": "stdout",
     "output_type": "stream",
     "text": [
      "these victims are criminals illegally in our country\n"
     ]
    }
   ],
   "source": [
    "import pandas as pd\n",
    "\n",
    "xl = pd.ExcelFile(\"TweetCorpusExel3.xls\")\n",
    "df = xl.parse(\"Sheet1\")\n",
    "print (df['Text'][2])\n",
    "df = df.sort_values(by=\"Text\")\n",
    "df['TextDescr'] = df.Text.map(str) + \" :: \" + df.Description\n",
    "\n",
    "writer = pd.ExcelWriter('TweetCorpusExel4.xlsx')\n",
    "df.to_excel(writer,'Sheet1',index=False)\n",
    "writer.save()\n",
    "writer.close()"
   ]
  },
  {
   "cell_type": "code",
   "execution_count": 11,
   "metadata": {
    "collapsed": false,
    "scrolled": false
   },
   "outputs": [
    {
     "name": "stderr",
     "output_type": "stream",
     "text": [
      "/root/anaconda3/lib/python3.6/site-packages/ipykernel/__main__.py:8: SettingWithCopyWarning: \n",
      "A value is trying to be set on a copy of a slice from a DataFrame\n",
      "\n",
      "See the caveats in the documentation: http://pandas.pydata.org/pandas-docs/stable/indexing.html#indexing-view-versus-copy\n",
      "/root/anaconda3/lib/python3.6/site-packages/ipykernel/__main__.py:9: SettingWithCopyWarning: \n",
      "A value is trying to be set on a copy of a slice from a DataFrame\n",
      "\n",
      "See the caveats in the documentation: http://pandas.pydata.org/pandas-docs/stable/indexing.html#indexing-view-versus-copy\n",
      "/root/anaconda3/lib/python3.6/site-packages/pandas/core/indexing.py:141: SettingWithCopyWarning: \n",
      "A value is trying to be set on a copy of a slice from a DataFrame\n",
      "\n",
      "See the caveats in the documentation: http://pandas.pydata.org/pandas-docs/stable/indexing.html#indexing-view-versus-copy\n",
      "  self._setitem_with_indexer(indexer, value)\n"
     ]
    }
   ],
   "source": [
    "df = pd.read_excel('TweetCorpusExel4.xlsx', sheetname='Sheet1')\n",
    "writer = pd.ExcelWriter('Final.xlsx')\n",
    "currentrow=0\n",
    "tweet=df['Text'][currentrow]\n",
    "l = len(df)\n",
    "for i in range(l):   \n",
    "    if df['Text'][i]==tweet or similar(df['Text'][i],tweet)>0.8:\n",
    "        df['Text'][i]=''        \n",
    "        df['Id'][currentrow]=str(df['Id'][currentrow])+\",\"+str(df['Id'][i])\n",
    "        if df['Names'][i]!='':\n",
    "            df['Names'][currentrow]=str(df['Names'][currentrow]) +\",\"+str(df['Names'][i])\n",
    "        df['Text'][currentrow]=str(df['Text'][currentrow])+\" \\n ; \"+str(df['Description'][currentrow])\n",
    "        df['Locations'][currentrow]=str(df['Locations'][currentrow])+\",\"+str(df['Locations'][i])\n",
    "    else:\n",
    "        currentrow=i\n",
    "        tweet=df['Text'][currentrow]\n",
    "df = df[df.Text != '']\n",
    "\n",
    "del df['Text']\n",
    "#len(filter(lambda df: df.TextDescr.str.contains(r'@'),rows))\n",
    "del df['Description']\n",
    "#df['Text'][currentrow]=str(df['Text'][currentrow])+\" \\n ; \"+str(df['Description'][currentrow])\n",
    "df.to_excel(writer,'Sheet1',index=False)\n",
    "\n",
    "writer.save()\n",
    "writer.close()"
   ]
  },
  {
   "cell_type": "code",
   "execution_count": 12,
   "metadata": {
    "collapsed": false,
    "scrolled": true
   },
   "outputs": [
    {
     "data": {
      "text/plain": [
       "'{\\n    \"contributors_enabled\": false,\\n    \"created_at\": \"Mon Dec 21 17:32:31 +0000 2015\",\\n    \"default_profile\": true,\\n    \"default_profile_image\": false,\\n    \"description\": null,\\n    \"favourites_count\": 96046,\\n    \"follow_request_sent\": null,\\n    \"followers_count\": 733,\\n    \"following\": null,\\n    \"friends_count\": 196,\\n    \"geo_enabled\": true,\\n    \"id\": 4559222536,\\n    \"id_str\": \"4559222536\",\\n    \"is_translator\": false,\\n    \"lang\": \"en-gb\",\\n    \"listed_count\": 28,\\n    \"location\": null,\\n    \"name\": \"sylvia moulds\",\\n    \"notifications\": null,\\n    \"profile_background_color\": \"F5F8FA\",\\n    \"profile_background_image_url\": \"\",\\n    \"profile_background_image_url_https\": \"\",\\n    \"profile_background_tile\": false,\\n    \"profile_image_url\": \"http://pbs.twimg.com/profile_images/792728496300711936/u5VdEbmc_normal.jpg\",\\n    \"profile_image_url_https\": \"https://pbs.twimg.com/profile_images/792728496300711936/u5VdEbmc_normal.jpg\",\\n    \"profile_link_color\": \"1DA1F2\",\\n    \"profile_sidebar_border_color\": \"C0DEED\",\\n    \"profile_sidebar_fill_color\": \"DDEEF6\",\\n    \"profile_text_color\": \"333333\",\\n    \"profile_use_background_image\": true,\\n    \"protected\": false,\\n    \"screen_name\": \"MouldsSylvia\",\\n    \"statuses_count\": 39904,\\n    \"time_zone\": null,\\n    \"url\": null,\\n    \"utc_offset\": null,\\n    \"verified\": false\\n}'"
      ]
     },
     "execution_count": 12,
     "metadata": {},
     "output_type": "execute_result"
    }
   ],
   "source": [
    "json.dumps(TweetsJsonArray[1]['user'], sort_keys=True, indent=4)"
   ]
  },
  {
   "cell_type": "code",
   "execution_count": 95,
   "metadata": {
    "collapsed": false
   },
   "outputs": [
    {
     "ename": "SyntaxError",
     "evalue": "unexpected EOF while parsing (<ipython-input-95-d00dd8ff3fe4>, line 12)",
     "output_type": "error",
     "traceback": [
      "\u001b[0;36m  File \u001b[0;32m\"<ipython-input-95-d00dd8ff3fe4>\"\u001b[0;36m, line \u001b[0;32m12\u001b[0m\n\u001b[0;31m    list(set(f).intersection(set(var1))\u001b[0m\n\u001b[0m                                       ^\u001b[0m\n\u001b[0;31mSyntaxError\u001b[0m\u001b[0;31m:\u001b[0m unexpected EOF while parsing\n"
     ]
    }
   ],
   "source": [
    "from csv import DictReader\n",
    "\n",
    "with open('bad-words.csv', 'rb') as f:\n",
    "    bad = [row[\"rowname\"] for row in DictReader(f)]#edit this row name\n",
    "    value = [row[\"rowname\"] for row in DictReader(f)]  # edit this row name\n",
    "filename = sys.argv[1]\n",
    "row_number, column_number = [int(arg, 10)-1 for arg in sys.argv[2:]]\n",
    "with open(filename, 'rb') as g:\n",
    "     rows = list(csv.reader(f))\n",
    "     print (rows[1][4])#give for loop to do this automatically for all strings\n",
    "var1  = rows[row_number][column_number].split(',')\n",
    "list(set(f).intersection(set(var1))"
   ]
  },
  {
   "cell_type": "code",
   "execution_count": null,
   "metadata": {
    "collapsed": true
   },
   "outputs": [],
   "source": []
  }
 ],
 "metadata": {
  "kernelspec": {
   "display_name": "Python 3",
   "language": "python",
   "name": "python3"
  },
  "language_info": {
   "codemirror_mode": {
    "name": "ipython",
    "version": 3
   },
   "file_extension": ".py",
   "mimetype": "text/x-python",
   "name": "python",
   "nbconvert_exporter": "python",
   "pygments_lexer": "ipython3",
   "version": "3.6.0"
  }
 },
 "nbformat": 4,
 "nbformat_minor": 2
}
