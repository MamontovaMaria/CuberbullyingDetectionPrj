{
 "cells": [
  {
   "cell_type": "code",
   "execution_count": 17,
   "metadata": {
    "collapsed": false
   },
   "outputs": [],
   "source": [
    "import json\n",
    "import difflib\n",
    "import copy\n",
    "from pprint import pprint\n",
    "#Reading the file\n",
    "f = open('python1007.json')\n",
    "with open('python1007.json',encoding='utf-8') as f:\n",
    "    content = f.readlines()\n",
    "#Getting rid of empty strings\n",
    "content =  [x.strip() for x in content]\n",
    "content = list(filter(None, content)) \n",
    "TweetsJsonArray = []\n",
    "#To JSON TYPE\n",
    "for tweet in content:\n",
    "    TweetsJsonArray.append(json.loads(tweet))  \n",
    "#Preprocessing - deleting the similar tweets- deciede that it is not needed\n",
    "import difflib\n",
    "def similar(a, b):\n",
    "    return difflib.SequenceMatcher(None, a, b).ratio()"
   ]
  },
  {
   "cell_type": "code",
   "execution_count": 20,
   "metadata": {
    "collapsed": false
   },
   "outputs": [],
   "source": [
    "from html.parser import HTMLParser"
   ]
  },
  {
   "cell_type": "code",
   "execution_count": 9,
   "metadata": {
    "collapsed": false
   },
   "outputs": [],
   "source": [
    "#Writing the content to the exel for Manual Analysis\n",
    "import re\n",
    "import csv\n",
    "import json\n",
    "import xlwt\n",
    "import re\n",
    "\n",
    "num=1;\n",
    "book = xlwt.Workbook()\n",
    "sheet1 = book.add_sheet(\"Sheet1\",cell_overwrite_ok=True)\n",
    "\n",
    "row = sheet1.row(0)\n",
    "\n",
    "row.write(0, 'Created at')\n",
    "row.write(1, 'Text')  \n",
    "row.write(2, 'Names') \n",
    "row.write(3, 'Description') \n",
    "row.write(4, 'Locations') \n",
    "row.write(5, 'Id') \n",
    "n=0\n",
    "for tweet in TweetsJsonArray: \n",
    "    n=n+1\n",
    "    if tweet['lang']==\"en\":\n",
    "        row = sheet1.row(num)\n",
    "        row.write(0, tweet['created_at'])  \n",
    "        text=''\n",
    "        if 'extended_tweet' in tweet:\n",
    "            text=tweet['extended_tweet']['full_text']\n",
    "        elif 'retweeted_status' in tweet:\n",
    "            if 'extended_tweet' in tweet['retweeted_status']:\n",
    "                text=tweet['retweeted_status']['extended_tweet']['full_text']\n",
    "            else:\n",
    "                text=tweet['retweeted_status']['text']\n",
    "        else:\n",
    "            text=tweet['text']\n",
    "        text = re.sub('http[s]?://(?:[a-zA-Z]|[0-9]|[$-_@.&+]|[!*\\(\\),]|(?:%[0-9a-fA-F][0-9a-fA-F]))+','',text)\n",
    "        names = tweet['user']['name']\n",
    "        description = tweet['user']['description']\n",
    "        #text = re.sub(r'\\W+', '', text)\n",
    "        \n",
    "        PERMITTED_CHARS = \"0123456789abcdefghijklmnopqrstuvwxyzABCDEFGHIJKLMNOPQRSTUVWXYZ_- \"\n",
    "        text = \"\".join(c for c in text if c in PERMITTED_CHARS)\n",
    "        text=text.lower()\n",
    "        text=text.strip()\n",
    "        names=\"\".join(c for c in names if c in PERMITTED_CHARS)\n",
    "        description=\"\".join(c for c in description if c in PERMITTED_CHARS) if description!= None else ''\n",
    "        #text=text+\";\\n\"+description       \n",
    "        num=num+1              \n",
    "        \n",
    "        row.write(1, text)\n",
    "        row.write(2, names)\n",
    "        row.write(3, description)\n",
    "        row.write(4, tweet['user']['location'] if tweet['user']['location'] != None else '')\n",
    "        row.write(5, num)\n",
    "        num=num+1\n",
    "book.save(\"TweetCorpusExel3.xls\")\n",
    "    #csvFile.writerow([tweet[\"created_at\"],tweet[\"text\"],tweet[\"user\"][\"name\"],tweet[\"user\"][\"description\"],tweet[\"user\"][\"location\"]])"
   ]
  },
  {
   "cell_type": "code",
   "execution_count": 10,
   "metadata": {
    "collapsed": false
   },
   "outputs": [
    {
     "name": "stdout",
     "output_type": "stream",
     "text": [
      "these victims are criminals illegally in our country\n"
     ]
    }
   ],
   "source": [
    "import pandas as pd\n",
    "\n",
    "xl = pd.ExcelFile(\"TweetCorpusExel3.xls\")\n",
    "df = xl.parse(\"Sheet1\")\n",
    "print (df['Text'][2])\n",
    "df = df.sort_values(by=\"Text\")\n",
    "\n",
    "\n",
    "writer = pd.ExcelWriter('TweetCorpusExel4.xlsx')\n",
    "df.to_excel(writer,'Sheet1',index=False)\n",
    "writer.save()\n",
    "writer.close()"
   ]
  },
  {
   "cell_type": "code",
   "execution_count": 16,
   "metadata": {
    "collapsed": false
   },
   "outputs": [
    {
     "name": "stderr",
     "output_type": "stream",
     "text": [
      "C:\\Users\\mmamo_000\\Anaconda3\\lib\\site-packages\\ipykernel\\__main__.py:8: SettingWithCopyWarning: \n",
      "A value is trying to be set on a copy of a slice from a DataFrame\n",
      "\n",
      "See the caveats in the documentation: http://pandas.pydata.org/pandas-docs/stable/indexing.html#indexing-view-versus-copy\n",
      "C:\\Users\\mmamo_000\\Anaconda3\\lib\\site-packages\\ipykernel\\__main__.py:9: SettingWithCopyWarning: \n",
      "A value is trying to be set on a copy of a slice from a DataFrame\n",
      "\n",
      "See the caveats in the documentation: http://pandas.pydata.org/pandas-docs/stable/indexing.html#indexing-view-versus-copy\n",
      "C:\\Users\\mmamo_000\\Anaconda3\\lib\\site-packages\\pandas\\core\\indexing.py:141: SettingWithCopyWarning: \n",
      "A value is trying to be set on a copy of a slice from a DataFrame\n",
      "\n",
      "See the caveats in the documentation: http://pandas.pydata.org/pandas-docs/stable/indexing.html#indexing-view-versus-copy\n",
      "  self._setitem_with_indexer(indexer, value)\n"
     ]
    },
    {
     "ename": "PermissionError",
     "evalue": "[Errno 13] Permission denied: 'TweetCorpusExel5.xlsx'",
     "output_type": "error",
     "traceback": [
      "\u001b[0;31m---------------------------------------------------------------------------\u001b[0m",
      "\u001b[0;31mPermissionError\u001b[0m                           Traceback (most recent call last)",
      "\u001b[0;32m<ipython-input-16-976891ea1feb>\u001b[0m in \u001b[0;36m<module>\u001b[0;34m()\u001b[0m\n\u001b[1;32m     17\u001b[0m \u001b[0mdf\u001b[0m \u001b[1;33m=\u001b[0m \u001b[0mdf\u001b[0m\u001b[1;33m[\u001b[0m\u001b[0mdf\u001b[0m\u001b[1;33m.\u001b[0m\u001b[0mText\u001b[0m \u001b[1;33m!=\u001b[0m \u001b[1;34m''\u001b[0m\u001b[1;33m]\u001b[0m\u001b[1;33m\u001b[0m\u001b[0m\n\u001b[1;32m     18\u001b[0m \u001b[0mdf\u001b[0m\u001b[1;33m.\u001b[0m\u001b[0mto_excel\u001b[0m\u001b[1;33m(\u001b[0m\u001b[0mwriter\u001b[0m\u001b[1;33m,\u001b[0m\u001b[1;34m'Sheet1'\u001b[0m\u001b[1;33m,\u001b[0m\u001b[0mindex\u001b[0m\u001b[1;33m=\u001b[0m\u001b[1;32mFalse\u001b[0m\u001b[1;33m)\u001b[0m\u001b[1;33m\u001b[0m\u001b[0m\n\u001b[0;32m---> 19\u001b[0;31m \u001b[0mwriter\u001b[0m\u001b[1;33m.\u001b[0m\u001b[0msave\u001b[0m\u001b[1;33m(\u001b[0m\u001b[1;33m)\u001b[0m\u001b[1;33m\u001b[0m\u001b[0m\n\u001b[0m\u001b[1;32m     20\u001b[0m \u001b[0mwriter\u001b[0m\u001b[1;33m.\u001b[0m\u001b[0mclose\u001b[0m\u001b[1;33m(\u001b[0m\u001b[1;33m)\u001b[0m\u001b[1;33m\u001b[0m\u001b[0m\n",
      "\u001b[0;32mC:\\Users\\mmamo_000\\Anaconda3\\lib\\site-packages\\pandas\\io\\excel.py\u001b[0m in \u001b[0;36msave\u001b[0;34m(self)\u001b[0m\n\u001b[1;32m   1500\u001b[0m         \u001b[0mSave\u001b[0m \u001b[0mworkbook\u001b[0m \u001b[0mto\u001b[0m \u001b[0mdisk\u001b[0m\u001b[1;33m.\u001b[0m\u001b[1;33m\u001b[0m\u001b[0m\n\u001b[1;32m   1501\u001b[0m         \"\"\"\n\u001b[0;32m-> 1502\u001b[0;31m         \u001b[1;32mreturn\u001b[0m \u001b[0mself\u001b[0m\u001b[1;33m.\u001b[0m\u001b[0mbook\u001b[0m\u001b[1;33m.\u001b[0m\u001b[0mclose\u001b[0m\u001b[1;33m(\u001b[0m\u001b[1;33m)\u001b[0m\u001b[1;33m\u001b[0m\u001b[0m\n\u001b[0m\u001b[1;32m   1503\u001b[0m \u001b[1;33m\u001b[0m\u001b[0m\n\u001b[1;32m   1504\u001b[0m     \u001b[1;32mdef\u001b[0m \u001b[0mwrite_cells\u001b[0m\u001b[1;33m(\u001b[0m\u001b[0mself\u001b[0m\u001b[1;33m,\u001b[0m \u001b[0mcells\u001b[0m\u001b[1;33m,\u001b[0m \u001b[0msheet_name\u001b[0m\u001b[1;33m=\u001b[0m\u001b[1;32mNone\u001b[0m\u001b[1;33m,\u001b[0m \u001b[0mstartrow\u001b[0m\u001b[1;33m=\u001b[0m\u001b[1;36m0\u001b[0m\u001b[1;33m,\u001b[0m \u001b[0mstartcol\u001b[0m\u001b[1;33m=\u001b[0m\u001b[1;36m0\u001b[0m\u001b[1;33m)\u001b[0m\u001b[1;33m:\u001b[0m\u001b[1;33m\u001b[0m\u001b[0m\n",
      "\u001b[0;32mC:\\Users\\mmamo_000\\Anaconda3\\lib\\site-packages\\xlsxwriter\\workbook.py\u001b[0m in \u001b[0;36mclose\u001b[0;34m(self)\u001b[0m\n\u001b[1;32m    297\u001b[0m         \u001b[1;32mif\u001b[0m \u001b[1;32mnot\u001b[0m \u001b[0mself\u001b[0m\u001b[1;33m.\u001b[0m\u001b[0mfileclosed\u001b[0m\u001b[1;33m:\u001b[0m\u001b[1;33m\u001b[0m\u001b[0m\n\u001b[1;32m    298\u001b[0m             \u001b[0mself\u001b[0m\u001b[1;33m.\u001b[0m\u001b[0mfileclosed\u001b[0m \u001b[1;33m=\u001b[0m \u001b[1;36m1\u001b[0m\u001b[1;33m\u001b[0m\u001b[0m\n\u001b[0;32m--> 299\u001b[0;31m             \u001b[0mself\u001b[0m\u001b[1;33m.\u001b[0m\u001b[0m_store_workbook\u001b[0m\u001b[1;33m(\u001b[0m\u001b[1;33m)\u001b[0m\u001b[1;33m\u001b[0m\u001b[0m\n\u001b[0m\u001b[1;32m    300\u001b[0m \u001b[1;33m\u001b[0m\u001b[0m\n\u001b[1;32m    301\u001b[0m     \u001b[1;32mdef\u001b[0m \u001b[0mset_size\u001b[0m\u001b[1;33m(\u001b[0m\u001b[0mself\u001b[0m\u001b[1;33m,\u001b[0m \u001b[0mwidth\u001b[0m\u001b[1;33m,\u001b[0m \u001b[0mheight\u001b[0m\u001b[1;33m)\u001b[0m\u001b[1;33m:\u001b[0m\u001b[1;33m\u001b[0m\u001b[0m\n",
      "\u001b[0;32mC:\\Users\\mmamo_000\\Anaconda3\\lib\\site-packages\\xlsxwriter\\workbook.py\u001b[0m in \u001b[0;36m_store_workbook\u001b[0;34m(self)\u001b[0m\n\u001b[1;32m    611\u001b[0m \u001b[1;33m\u001b[0m\u001b[0m\n\u001b[1;32m    612\u001b[0m         xlsx_file = ZipFile(self.filename, \"w\", compression=ZIP_DEFLATED,\n\u001b[0;32m--> 613\u001b[0;31m                             allowZip64=self.allow_zip64)\n\u001b[0m\u001b[1;32m    614\u001b[0m \u001b[1;33m\u001b[0m\u001b[0m\n\u001b[1;32m    615\u001b[0m         \u001b[1;31m# Add XML sub-files to the Zip file with their Excel filename.\u001b[0m\u001b[1;33m\u001b[0m\u001b[1;33m\u001b[0m\u001b[0m\n",
      "\u001b[0;32mC:\\Users\\mmamo_000\\Anaconda3\\lib\\zipfile.py\u001b[0m in \u001b[0;36m__init__\u001b[0;34m(self, file, mode, compression, allowZip64)\u001b[0m\n\u001b[1;32m   1080\u001b[0m             \u001b[1;32mwhile\u001b[0m \u001b[1;32mTrue\u001b[0m\u001b[1;33m:\u001b[0m\u001b[1;33m\u001b[0m\u001b[0m\n\u001b[1;32m   1081\u001b[0m                 \u001b[1;32mtry\u001b[0m\u001b[1;33m:\u001b[0m\u001b[1;33m\u001b[0m\u001b[0m\n\u001b[0;32m-> 1082\u001b[0;31m                     \u001b[0mself\u001b[0m\u001b[1;33m.\u001b[0m\u001b[0mfp\u001b[0m \u001b[1;33m=\u001b[0m \u001b[0mio\u001b[0m\u001b[1;33m.\u001b[0m\u001b[0mopen\u001b[0m\u001b[1;33m(\u001b[0m\u001b[0mfile\u001b[0m\u001b[1;33m,\u001b[0m \u001b[0mfilemode\u001b[0m\u001b[1;33m)\u001b[0m\u001b[1;33m\u001b[0m\u001b[0m\n\u001b[0m\u001b[1;32m   1083\u001b[0m                 \u001b[1;32mexcept\u001b[0m \u001b[0mOSError\u001b[0m\u001b[1;33m:\u001b[0m\u001b[1;33m\u001b[0m\u001b[0m\n\u001b[1;32m   1084\u001b[0m                     \u001b[1;32mif\u001b[0m \u001b[0mfilemode\u001b[0m \u001b[1;32min\u001b[0m \u001b[0mmodeDict\u001b[0m\u001b[1;33m:\u001b[0m\u001b[1;33m\u001b[0m\u001b[0m\n",
      "\u001b[0;31mPermissionError\u001b[0m: [Errno 13] Permission denied: 'TweetCorpusExel5.xlsx'"
     ]
    }
   ],
   "source": [
    "df = pd.read_excel('TweetCorpusExel4.xlsx', sheetname='Sheet1')\n",
    "writer = pd.ExcelWriter('TweetCorpusExel5.xlsx')\n",
    "currentrow=0\n",
    "tweet=df['Text'][currentrow]\n",
    "l = len(df)\n",
    "for i in range(l):   \n",
    "    if df['Text'][i]==tweet or similar(df['Text'][i],tweet)>0.8:\n",
    "        df['Text'][i]=''        \n",
    "        df['Id'][currentrow]=str(df['Id'][currentrow])+\",\"+str(df['Id'][i])\n",
    "        if df['Names'][i]!='':\n",
    "            df['Names'][currentrow]=str(df['Names'][currentrow]) +\",\"+str(df['Names'][i])\n",
    "        df['Text'][currentrow]=str(df['Text'][currentrow])+\" \\n ; \"+str(df['Description'][currentrow])\n",
    "        df['Locations'][currentrow]=str(df['Locations'][currentrow])+\",\"+str(df['Locations'][i])\n",
    "    else:\n",
    "        currentrow=i\n",
    "        tweet=df['Text'][currentrow]\n",
    "df = df[df.Text != '']   \n",
    "df.to_excel(writer,'Sheet1',index=False)\n",
    "writer.save()\n",
    "writer.close()"
   ]
  },
  {
   "cell_type": "code",
   "execution_count": null,
   "metadata": {
    "collapsed": true
   },
   "outputs": [],
   "source": [
    "json.dumps(TweetsJsonArray[1]['user'], sort_keys=True, indent=4)"
   ]
  }
 ],
 "metadata": {
  "kernelspec": {
   "display_name": "Python 3",
   "language": "python",
   "name": "python3"
  },
  "language_info": {
   "codemirror_mode": {
    "name": "ipython",
    "version": 3
   },
   "file_extension": ".py",
   "mimetype": "text/x-python",
   "name": "python",
   "nbconvert_exporter": "python",
   "pygments_lexer": "ipython3",
   "version": "3.6.0"
  }
 },
 "nbformat": 4,
 "nbformat_minor": 2
}
